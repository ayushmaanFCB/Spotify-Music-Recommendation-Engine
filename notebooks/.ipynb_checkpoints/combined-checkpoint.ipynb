version https://git-lfs.github.com/spec/v1
oid sha256:c40e5ecf9e44597c8b08ba00dbf03cf039d99d39a30dac48866f1563a3b8e156
size 78788480
